{
 "cells": [
  {
   "cell_type": "markdown",
   "id": "2fdf0954",
   "metadata": {},
   "source": [
    "# Assignment 2\n",
    "## Lucille Barnett\n",
    "## Python 3\n",
    "## 2022FA Programming for Liberal Arts (CS-150-01)"
   ]
  },
  {
   "cell_type": "code",
   "execution_count": null,
   "id": "da7d8baf",
   "metadata": {},
   "outputs": [],
   "source": []
  },
  {
   "cell_type": "code",
   "execution_count": null,
   "id": "84df93e0",
   "metadata": {},
   "outputs": [],
   "source": []
  },
  {
   "cell_type": "markdown",
   "id": "441dd829",
   "metadata": {},
   "source": [
    "### append() - adds a new element to the end of the list"
   ]
  },
  {
   "cell_type": "code",
   "execution_count": 1,
   "id": "c62a32bd",
   "metadata": {},
   "outputs": [
    {
     "name": "stdout",
     "output_type": "stream",
     "text": [
      "['Monday', 'Tuesday', 'Wednesday', 'Thursday', 'Friday']\n"
     ]
    }
   ],
   "source": [
    "days=[\"Monday\"]\n",
    "days.append(\"Tuesday\")\n",
    "days.append(\"Wednesday\")\n",
    "days.append(\"Thursday\")\n",
    "days.append(\"Friday\")\n",
    "print(days)"
   ]
  },
  {
   "cell_type": "markdown",
   "id": "a161ed4b",
   "metadata": {},
   "source": [
    "### extend() - adds a new element to the end of the list"
   ]
  },
  {
   "cell_type": "code",
   "execution_count": 2,
   "id": "a9cb208d",
   "metadata": {},
   "outputs": [
    {
     "data": {
      "text/plain": [
       "['Monday', 'Tuesday', 'Wednesday', 'Thursday', 'Friday', 'Saturday', 'Sunday']"
      ]
     },
     "execution_count": 2,
     "metadata": {},
     "output_type": "execute_result"
    }
   ],
   "source": [
    "points=(\"Saturday\", \"Sunday\")\n",
    "days.extend(points)\n",
    "days"
   ]
  },
  {
   "cell_type": "markdown",
   "id": "a2909f54",
   "metadata": {},
   "source": [
    "### insert() - adds a new element in a given position in the list"
   ]
  },
  {
   "cell_type": "code",
   "execution_count": 3,
   "id": "eaa8b723",
   "metadata": {},
   "outputs": [
    {
     "name": "stdout",
     "output_type": "stream",
     "text": [
      "[1, 2, 3, 4, 5, 6, 7]\n"
     ]
    }
   ],
   "source": [
    "numbers=[1, 2, 3, 5, 7]\n",
    "numbers.insert(3, 4)\n",
    "numbers.insert(5, 6)\n",
    "print(numbers)"
   ]
  },
  {
   "cell_type": "markdown",
   "id": "e4a9901f",
   "metadata": {},
   "source": [
    "### remove() - removes an element from the list according to its value"
   ]
  },
  {
   "cell_type": "code",
   "execution_count": 5,
   "id": "77701239",
   "metadata": {},
   "outputs": [
    {
     "name": "stdout",
     "output_type": "stream",
     "text": [
      "[2, 3, 4, 5, 6]\n"
     ]
    }
   ],
   "source": [
    "numbers.remove(1)\n",
    "numbers.remove(7)\n",
    "print(numbers)"
   ]
  },
  {
   "cell_type": "markdown",
   "id": "45c204d5",
   "metadata": {},
   "source": [
    "### count() - returns the number of times a given value appears in a string"
   ]
  },
  {
   "cell_type": "code",
   "execution_count": 7,
   "id": "8db6bbd0",
   "metadata": {},
   "outputs": [
    {
     "name": "stdout",
     "output_type": "stream",
     "text": [
      "0\n"
     ]
    }
   ],
   "source": [
    "text = \"My favorite fruit is pinneapple\"\n",
    "print(text.count(\"fruit\"))"
   ]
  },
  {
   "cell_type": "markdown",
   "id": "125a28f4",
   "metadata": {},
   "source": [
    "### index() - returns the position at the first occurance of a value/ element in a list"
   ]
  },
  {
   "cell_type": "code",
   "execution_count": 8,
   "id": "beac4500",
   "metadata": {},
   "outputs": [
    {
     "name": "stdout",
     "output_type": "stream",
     "text": [
      "2\n"
     ]
    }
   ],
   "source": [
    "flowers = [\"rose\", \"lavender\", \"poppy\", \"marigold\"]\n",
    "print(flowers.index(\"poppy\"))"
   ]
  },
  {
   "cell_type": "markdown",
   "id": "30d2b9fd",
   "metadata": {},
   "source": [
    "### pop() - removes the element at the specified position"
   ]
  },
  {
   "cell_type": "code",
   "execution_count": 10,
   "id": "00f1ea6f",
   "metadata": {},
   "outputs": [
    {
     "name": "stdout",
     "output_type": "stream",
     "text": [
      "['rose', 'poppy', 'marigold']\n"
     ]
    }
   ],
   "source": [
    "flowers.pop(1)\n",
    "print(flowers)"
   ]
  },
  {
   "cell_type": "markdown",
   "id": "8ff035ad",
   "metadata": {},
   "source": [
    "### sorted() - temporarily presents the list in a sorted order"
   ]
  },
  {
   "cell_type": "code",
   "execution_count": 11,
   "id": "b8c1fc4b",
   "metadata": {},
   "outputs": [
    {
     "name": "stdout",
     "output_type": "stream",
     "text": [
      "Here is the original list: \n",
      "['rose', 'poppy', 'marigold']\n",
      "\n",
      "Here is the dorted list: \n",
      "['marigold', 'poppy', 'rose']\n"
     ]
    }
   ],
   "source": [
    "print(\"Here is the original list: \")\n",
    "print(flowers)\n",
    "\n",
    "print(\"\\nHere is the dorted list: \")\n",
    "print(sorted(flowers))"
   ]
  },
  {
   "cell_type": "markdown",
   "id": "5c5a2cce",
   "metadata": {},
   "source": [
    "### copy() - creates a copy of an existing list"
   ]
  },
  {
   "cell_type": "code",
   "execution_count": 12,
   "id": "9f2cae70",
   "metadata": {},
   "outputs": [
    {
     "data": {
      "text/plain": [
       "['spanish', 'italian', 'french', 'english']"
      ]
     },
     "execution_count": 12,
     "metadata": {},
     "output_type": "execute_result"
    }
   ],
   "source": [
    "languages = [\"spanish\", \"italian\", \"french\", \"english\"]\n",
    "languages.copy()"
   ]
  },
  {
   "cell_type": "markdown",
   "id": "a197f6d8",
   "metadata": {},
   "source": [
    "### clear() - removes all elements from a list"
   ]
  },
  {
   "cell_type": "code",
   "execution_count": 13,
   "id": "9842f474",
   "metadata": {},
   "outputs": [
    {
     "data": {
      "text/plain": [
       "[]"
      ]
     },
     "execution_count": 13,
     "metadata": {},
     "output_type": "execute_result"
    }
   ],
   "source": [
    "languages.clear()\n",
    "languages"
   ]
  },
  {
   "cell_type": "markdown",
   "id": "973ae9d8",
   "metadata": {},
   "source": [
    "### list() - creates a list object"
   ]
  },
  {
   "cell_type": "code",
   "execution_count": 15,
   "id": "68ba6e84",
   "metadata": {},
   "outputs": [
    {
     "data": {
      "text/plain": [
       "list"
      ]
     },
     "execution_count": 15,
     "metadata": {},
     "output_type": "execute_result"
    }
   ],
   "source": [
    "x = list((\"blueberry\", \"strawberry\", \"grape\", \"blackberry\"))\n",
    "type(x)"
   ]
  },
  {
   "cell_type": "markdown",
   "id": "c941b3bb",
   "metadata": {},
   "source": [
    "### len() - shows the number of items in a tuple or list"
   ]
  },
  {
   "cell_type": "code",
   "execution_count": 17,
   "id": "0ade0ed8",
   "metadata": {},
   "outputs": [
    {
     "name": "stdout",
     "output_type": "stream",
     "text": [
      "3\n",
      "4\n"
     ]
    }
   ],
   "source": [
    "animals = (\"dog\", \"cat\", \"bird\")\n",
    "farm_animals = (\"cow\", \"pig\", \"sheep\", \"chicken\")\n",
    "print(len(animals))\n",
    "print(len(farm_animals))"
   ]
  },
  {
   "cell_type": "markdown",
   "id": "174db563",
   "metadata": {},
   "source": [
    "### max() - shows the item with the highest value, or the item with the highest value in an interable"
   ]
  },
  {
   "cell_type": "code",
   "execution_count": 18,
   "id": "604bcec0",
   "metadata": {},
   "outputs": [
    {
     "name": "stdout",
     "output_type": "stream",
     "text": [
      "90\n"
     ]
    }
   ],
   "source": [
    "numbers= (2, 50, 27, 81, 4, 90)\n",
    "print(max(numbers))"
   ]
  },
  {
   "cell_type": "markdown",
   "id": "3bfcde6b",
   "metadata": {},
   "source": [
    "### min() - shows the item with the lowest value, or the item with the lowest value in an interble"
   ]
  },
  {
   "cell_type": "code",
   "execution_count": 19,
   "id": "acfe628b",
   "metadata": {},
   "outputs": [
    {
     "name": "stdout",
     "output_type": "stream",
     "text": [
      "2\n"
     ]
    }
   ],
   "source": [
    "print(min(numbers))"
   ]
  }
 ],
 "metadata": {
  "kernelspec": {
   "display_name": "Python 3 (ipykernel)",
   "language": "python",
   "name": "python3"
  },
  "language_info": {
   "codemirror_mode": {
    "name": "ipython",
    "version": 3
   },
   "file_extension": ".py",
   "mimetype": "text/x-python",
   "name": "python",
   "nbconvert_exporter": "python",
   "pygments_lexer": "ipython3",
   "version": "3.9.12"
  }
 },
 "nbformat": 4,
 "nbformat_minor": 5
}
